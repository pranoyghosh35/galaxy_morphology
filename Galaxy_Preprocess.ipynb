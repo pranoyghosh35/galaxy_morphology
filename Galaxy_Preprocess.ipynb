{
 "cells": [
  {
   "cell_type": "code",
   "execution_count": null,
   "metadata": {
    "id": "4CD7IVTO9Svf"
   },
   "outputs": [],
   "source": [
    "import cv2\n",
    "import os\n",
    "import numpy as np\n",
    "from tqdm import tqdm\n",
    "from zipfile import ZipFile\n",
    "from sklearn.decomposition import PCA"
   ]
  },
  {
   "cell_type": "code",
   "execution_count": null,
   "metadata": {
    "id": "ue1uHP0fFOPH"
   },
   "outputs": [],
   "source": [
    "#let's mount mt gdrive"
   ]
  },
  {
   "cell_type": "code",
   "execution_count": null,
   "metadata": {
    "colab": {
     "base_uri": "https://localhost:8080/"
    },
    "executionInfo": {
     "elapsed": 25885,
     "status": "ok",
     "timestamp": 1707324419392,
     "user": {
      "displayName": "Pranoy Ghosh",
      "userId": "00869288650544207584"
     },
     "user_tz": -330
    },
    "id": "uoOgcPOnUtTK",
    "outputId": "b071b3f4-8cd0-41f4-ebb9-264f060d23b4"
   },
   "outputs": [
    {
     "name": "stdout",
     "output_type": "stream",
     "text": [
      "Mounted at /content/drive\n"
     ]
    }
   ],
   "source": [
    "from google.colab import drive\n",
    "drive.mount('/content/drive')"
   ]
  },
  {
   "cell_type": "code",
   "execution_count": null,
   "metadata": {
    "id": "ZVm_HNdJC0PV"
   },
   "outputs": [],
   "source": [
    "# Define your data and output directories\n",
    "DATA_DIR = '/content/drive/MyDrive/'\n",
    "TRAIN_ZIP_PATH = DATA_DIR + 'data_models/label.zip'\n",
    "TRAIN_OUTPUT_DIR = DATA_DIR + 'label_preprocess/'\n",
    "\n",
    "# Create output directories if not exists\n",
    "#os.makedirs(TRAIN_OUTPUT_DIR, exist_ok=True)\n",
    "#os.makedirs(TEST_OUTPUT_DIR, exist_ok=True)"
   ]
  },
  {
   "cell_type": "code",
   "execution_count": null,
   "metadata": {
    "colab": {
     "base_uri": "https://localhost:8080/",
     "height": 53
    },
    "executionInfo": {
     "elapsed": 2806,
     "status": "ok",
     "timestamp": 1707232365195,
     "user": {
      "displayName": "Tejasvi Bhaskar",
      "userId": "04811510747223212359"
     },
     "user_tz": -330
    },
    "id": "JyzQA76IGHZ9",
    "outputId": "9e030247-2363-4175-ccd9-bcff63b0d397"
   },
   "outputs": [
    {
     "data": {
      "application/vnd.google.colaboratory.intrinsic+json": {
       "type": "string"
      },
      "text/plain": [
       "\"# Function to unzip files\\ndef unzip_files(zip_path, output_dir):\\n    with ZipFile(zip_path, 'r') as zip_ref:\\n      try:\\n        zip_ref.extractall(output_dir)\\n      except:\\n        pass\""
      ]
     },
     "execution_count": 5,
     "metadata": {},
     "output_type": "execute_result"
    }
   ],
   "source": [
    "\"\"\"# Function to unzip all files\n",
    "def unzip_files(zip_path, output_dir):\n",
    "    with ZipFile(zip_path, 'r') as zip_ref:\n",
    "      try:\n",
    "        zip_ref.extractall(output_dir)\n",
    "      except:\n",
    "        pass\"\"\""
   ]
  },
  {
   "cell_type": "code",
   "execution_count": null,
   "metadata": {
    "id": "AbK43wxb9snZ"
   },
   "outputs": [],
   "source": [
    "# unzipp code when you specify how many files from beg\n",
    "def unzip_files(zip_path, output_dir, num_files=None):\n",
    "    with ZipFile(zip_path, 'r') as zip_ref:\n",
    "        try:\n",
    "            # Get the list of files in the zip archive\n",
    "            file_list = zip_ref.namelist()\n",
    "\n",
    "            # If num_files is specified, extract only the first num_files\n",
    "            if num_files:\n",
    "                file_list = file_list[:num_files]\n",
    "\n",
    "            # Extract the selected files to the output directory\n",
    "            zip_ref.extractall(output_dir, members=file_list)\n",
    "        except Exception as e:\n",
    "            print(f\"Error occurred during extraction: {e}\")"
   ]
  },
  {
   "cell_type": "code",
   "execution_count": null,
   "metadata": {
    "colab": {
     "base_uri": "https://localhost:8080/"
    },
    "executionInfo": {
     "elapsed": 5678,
     "status": "ok",
     "timestamp": 1707247535731,
     "user": {
      "displayName": "Tejasvi Bhaskar",
      "userId": "04811510747223212359"
     },
     "user_tz": -330
    },
    "id": "V0xl2Y8b3T8X",
    "outputId": "4a67b8d8-64e3-4370-8e3f-6fcff95b9c9b"
   },
   "outputs": [
    {
     "name": "stdout",
     "output_type": "stream",
     "text": [
      "Enter the number of files to extract: 2500\n"
     ]
    }
   ],
   "source": [
    "# Get user input for the number of files to extract\n",
    "num_files_to_extract = int(input(\"Enter the number of files to extract: \"))"
   ]
  },
  {
   "cell_type": "code",
   "execution_count": null,
   "metadata": {
    "id": "RLnqdLpE_47R"
   },
   "outputs": [],
   "source": [
    "# Example usage to extract 2,500 files from the test zip file\n",
    "unzip_files(TEST_ZIP_PATH, TEST_OUTPUT_DIR, num_files=num_files_to_extract)"
   ]
  },
  {
   "cell_type": "code",
   "execution_count": null,
   "metadata": {
    "id": "a7bwAxrx32Qy"
   },
   "outputs": [],
   "source": [
    "# Function to perform cropping with a limit on the number of images\n",
    "def crop_images(input_dir, output_dir, num_images=None):\n",
    "    image_files = [f for f in os.listdir(input_dir) if f.lower().endswith(('.png', '.jpg', '.jpeg'))]\n",
    "\n",
    "    # If num_images is specified, limit the list to the first num_images\n",
    "    if num_images:\n",
    "        image_files = image_files[:num_images]\n",
    "\n",
    "    # Define padding size\n",
    "    padding_size = 0.2\n",
    "\n",
    "    for image_file in tqdm(image_files, desc=f'Cropping images in {input_dir}'):\n",
    "        image_path = os.path.join(input_dir, image_file)\n",
    "\n",
    "        # Load the image\n",
    "        im = cv2.imread(image_path)\n",
    "        im2 = cv2.cvtColor(im, cv2.COLOR_RGB2GRAY)\n",
    "        ret, thresh = cv2.threshold(im2, 10, 255, 0)\n",
    "        contours, hierarchy = cv2.findContours(thresh, cv2.RETR_LIST, cv2.CHAIN_APPROX_SIMPLE)\n",
    "\n",
    "        # Region of interest\n",
    "        ROI = (0, 0, 0, 0)\n",
    "        ROI_area = 0\n",
    "        for contour in contours:\n",
    "            x, y, width, height = cv2.boundingRect(contour)\n",
    "            area = width * height\n",
    "            if area > ROI_area:\n",
    "                ROI_area = area\n",
    "                ROI = (x, y, width, height)\n",
    "\n",
    "        x, y, width, height = ROI\n",
    "\n",
    "        if width > height:\n",
    "            pad = int(width * padding_size)\n",
    "        else:\n",
    "            pad = int(height * padding_size)\n",
    "\n",
    "        # Crop the image\n",
    "        crop = im[max(0, y - pad):min(im.shape[0], y + height + pad), max(0, x - pad):min(im.shape[1], x + width + pad)]\n",
    "\n",
    "        # Save cropped image\n",
    "        destiny = os.path.join(output_dir, image_file)\n",
    "        destiny = destiny[:-3] + \"png\"\n",
    "        cv2.imwrite(destiny, cv2.resize(crop, (128, 128), interpolation=cv2.INTER_AREA), [cv2.IMWRITE_PNG_COMPRESSION, 0])\n"
   ]
  },
  {
   "cell_type": "code",
   "execution_count": null,
   "metadata": {
    "colab": {
     "base_uri": "https://localhost:8080/"
    },
    "executionInfo": {
     "elapsed": 153934,
     "status": "ok",
     "timestamp": 1707324594461,
     "user": {
      "displayName": "Pranoy Ghosh",
      "userId": "00869288650544207584"
     },
     "user_tz": -330
    },
    "id": "4-cHBGwoPBUQ",
    "outputId": "13359242-f084-4ce0-fa69-5e087f9d1490"
   },
   "outputs": [
    {
     "name": "stderr",
     "output_type": "stream",
     "text": [
      "Cropping images in /content/drive/MyDrive/Galaxy_Morphology/label_preprocess/images_training_rev1: 100%|██████████| 2407/2407 [02:17<00:00, 17.47it/s]\n"
     ]
    }
   ],
   "source": [
    "# Crop images\n",
    "crop_images(TRAIN_OUTPUT_DIR+'images_training_rev1', TRAIN_OUTPUT_DIR+'cropped')"
   ]
  },
  {
   "cell_type": "code",
   "execution_count": null,
   "metadata": {
    "id": "8v5JkRX_7jSH"
   },
   "outputs": [],
   "source": [
    "# Function for additional preprocessing steps with a limit on the number of images\n",
    "def preprocess_images(input_dir, output_dir, num_images=None):\n",
    "    image_files = [f for f in os.listdir(input_dir) if f.lower().endswith(('.png', '.jpg', '.jpeg'))]\n",
    "\n",
    "    # If num_images is specified, limit the list to the first num_images\n",
    "    if num_images:\n",
    "        image_files = image_files[:num_images]\n",
    "\n",
    "    for image_file in tqdm(image_files, desc=f'Performing additional preprocessing in {input_dir}'):\n",
    "        image_path = os.path.join(input_dir, image_file)\n",
    "\n",
    "        # Load the image\n",
    "        rotated_crop = cv2.imread(image_path)\n",
    "\n",
    "        # Rotate the image\n",
    "        rotated_crop = cv2.rotate(rotated_crop, cv2.ROTATE_90_COUNTERCLOCKWISE)\n",
    "\n",
    "        # Subtract background\n",
    "        gray_rotated_crop = cv2.cvtColor(rotated_crop, cv2.COLOR_BGR2GRAY)\n",
    "        _, thresholded = cv2.threshold(gray_rotated_crop, 0, 255, cv2.THRESH_BINARY + cv2.THRESH_OTSU)\n",
    "        rotated_crop[thresholded == 0] = 0\n",
    "\n",
    "        # Perform PCA\n",
    "        flattened_image = rotated_crop.reshape((-1, 3))\n",
    "        pca = PCA(n_components=2) ## how did they select 125 components?\n",
    "        pca_result = pca.fit_transform(flattened_image)\n",
    "        pca_image = pca.inverse_transform(pca_result).reshape(rotated_crop.shape)\n",
    "\n",
    "        # Save PCA reduced color images\n",
    "        destiny=os.path.join(output_dir, image_file)\n",
    "        destiny = destiny[:-3] + \"png\"\n",
    "        print(\"further preprocessing saved to:\", destiny)\n",
    "        cv2.imwrite(destiny, rotated_crop, [cv2.IMWRITE_PNG_COMPRESSION, 0]) ##save lossless png\n"
   ]
  },
  {
   "cell_type": "code",
   "execution_count": null,
   "metadata": {
    "id": "J4mKI6ssBJFv"
   },
   "outputs": [],
   "source": [
    "# Perform additional preprocessing\n",
    "preprocess_images(TRAIN_OUTPUT_DIR+'cropped', TRAIN_OUTPUT_DIR+'final')"
   ]
  }
 ],
 "metadata": {
  "accelerator": "TPU",
  "colab": {
   "provenance": []
  },
  "kernelspec": {
   "display_name": "Python 3 (ipykernel)",
   "language": "python",
   "name": "python3"
  },
  "language_info": {
   "codemirror_mode": {
    "name": "ipython",
    "version": 3
   },
   "file_extension": ".py",
   "mimetype": "text/x-python",
   "name": "python",
   "nbconvert_exporter": "python",
   "pygments_lexer": "ipython3",
   "version": "3.11.5"
  }
 },
 "nbformat": 4,
 "nbformat_minor": 1
}
